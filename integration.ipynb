{
 "cells": [
  {
   "cell_type": "code",
   "execution_count": 142,
   "id": "0baf6345",
   "metadata": {
    "pycharm": {
     "name": "#%%\n"
    }
   },
   "outputs": [],
   "source": [
    "import numpy as np\n",
    "import matplotlib.pyplot as plt\n",
    "import time"
   ]
  },
  {
   "cell_type": "code",
   "execution_count": 194,
   "id": "6d43a7bf",
   "metadata": {
    "pycharm": {
     "name": "#%%\n"
    }
   },
   "outputs": [
    {
     "name": "stdout",
     "output_type": "stream",
     "text": [
      "N = 100000000\n"
     ]
    }
   ],
   "source": [
    "#number of samples\n",
    "N = int(input('N = '))"
   ]
  },
  {
   "cell_type": "code",
   "execution_count": 195,
   "id": "e1cf7937",
   "metadata": {
    "pycharm": {
     "name": "#%%\n"
    }
   },
   "outputs": [],
   "source": [
    "#SS MC:\n",
    "\n",
    "start = time.time()\n",
    "\n",
    "#generating random number in the integration interval\n",
    "x =  2*np.random.rand(N)\n",
    "\n",
    "#f(x)\n",
    "f = np.exp(-x**2)\n",
    "\n",
    "#average and sigma\n",
    "EV_f = np.mean(f)\n",
    "sigma_f = np.sqrt(np.var(f))\n",
    "\n",
    "I = 2*EV_f\n",
    "I_err = sigma_f/np.sqrt(N)\n",
    "AE = abs(I-0.8820813907624217)\n",
    "# absolute value of integration = 0.8820813907624217\n",
    "\n",
    "end = time.time()"
   ]
  },
  {
   "cell_type": "code",
   "execution_count": 196,
   "id": "a2163a72",
   "metadata": {
    "pycharm": {
     "name": "#%%\n"
    }
   },
   "outputs": [
    {
     "name": "stdout",
     "output_type": "stream",
     "text": [
      "SS MC: 0.8820097937692342\n",
      "statistical error = 3.446425356346993e-05\n",
      "absolute error = 7.15969931874838e-05\n",
      "t = 2.202054023742676 seconds\n"
     ]
    }
   ],
   "source": [
    "print('SS MC: %s'%I)\n",
    "print('statistical error = %s'%I_err)\n",
    "print('absolute error = %s'%AE)\n",
    "print('t = %s seconds'%(end - start))"
   ]
  },
  {
   "cell_type": "code",
   "execution_count": 197,
   "id": "a6aa8550",
   "metadata": {
    "pycharm": {
     "name": "#%%\n"
    }
   },
   "outputs": [],
   "source": [
    "#IS MC:\n",
    "\n",
    "start = time.time()\n",
    "\n",
    "x =  np.random.rand(N)\n",
    "\n",
    "y = -np.log(1-(1-np.exp(-2))*x)\n",
    "\n",
    "#new function\n",
    "fg = (1-np.exp(-2))*(np.exp(-y**2)/np.exp(-y))\n",
    "\n",
    "#average and sigma\n",
    "EV_fg = np.mean(fg)\n",
    "sigma_fg = np.sqrt(np.var(fg))\n",
    "\n",
    "#integration value\n",
    "I = EV_fg\n",
    "\n",
    "#stastical error\n",
    "I_err = sigma_fg/np.sqrt(N)\n",
    "\n",
    "#absolute error\n",
    "AE = abs(I-0.8820813907624217)\n",
    "\n",
    "end = time.time()"
   ]
  },
  {
   "cell_type": "code",
   "execution_count": 198,
   "id": "454321b4",
   "metadata": {
    "pycharm": {
     "name": "#%%\n"
    }
   },
   "outputs": [
    {
     "name": "stdout",
     "output_type": "stream",
     "text": [
      "IS MC: 0.8820608567977366\n",
      "statistical error = 2.6603068453125762e-05\n",
      "absolute error = 2.0533964685043316e-05\n",
      "t = 5.566030025482178 seconds\n"
     ]
    }
   ],
   "source": [
    "print('IS MC: %s'%I)\n",
    "print('statistical error = %s'%I_err)\n",
    "print('absolute error = %s'%AE)\n",
    "print('t = %s seconds'%(end - start))"
   ]
  },
  {
   "cell_type": "code",
   "execution_count": null,
   "id": "a49658d7",
   "metadata": {
    "pycharm": {
     "name": "#%%\n"
    }
   },
   "outputs": [],
   "source": []
  }
 ],
 "metadata": {
  "kernelspec": {
   "display_name": "Python 3 (ipykernel)",
   "language": "python",
   "name": "python3"
  },
  "language_info": {
   "codemirror_mode": {
    "name": "ipython",
    "version": 3
   },
   "file_extension": ".py",
   "mimetype": "text/x-python",
   "name": "python",
   "nbconvert_exporter": "python",
   "pygments_lexer": "ipython3",
   "version": "3.9.13"
  }
 },
 "nbformat": 4,
 "nbformat_minor": 5
}